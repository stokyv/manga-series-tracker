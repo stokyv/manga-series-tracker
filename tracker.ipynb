{
 "cells": [
  {
   "cell_type": "code",
   "execution_count": 1,
   "metadata": {},
   "outputs": [],
   "source": [
    "import numpy as np"
   ]
  },
  {
   "cell_type": "code",
   "execution_count": 2,
   "metadata": {},
   "outputs": [
    {
     "name": "stdout",
     "output_type": "stream",
     "text": [
      "hello\n"
     ]
    }
   ],
   "source": [
    "print('hello')"
   ]
  },
  {
   "cell_type": "code",
   "execution_count": 4,
   "metadata": {},
   "outputs": [],
   "source": [
    "class Aggregator():\n",
    "    def __init__(self, url, name=''):\n",
    "        self.url = url\n",
    "        self.name = name\n",
    "    def add(self):\n",
    "        pass\n",
    "\n",
    "class Series():\n",
    "    def __init__(self, url, name=''):\n",
    "        self.url = url\n",
    "        self.latest_url = None\n",
    "        self.latest_chapter_num  = None\n",
    "        self.name = name\n",
    "        self.date = None\n",
    "    def read_chapter(self, url, latest_chapter_num=None):\n",
    "        self.latest_url = url\n",
    "        self.date = None\n",
    "        self.latest_chapter_num  = latest_chapter_num\n",
    "    def update(self):\n",
    "        \n",
    "\n",
    "\n",
    "\n"
   ]
  },
  {
   "cell_type": "code",
   "execution_count": 5,
   "metadata": {},
   "outputs": [],
   "source": [
    "rebuild = Series(r'https://rawkuma.com/manga/rebuild-world', 'Rebuild World')\n"
   ]
  },
  {
   "cell_type": "code",
   "execution_count": 6,
   "metadata": {},
   "outputs": [],
   "source": [
    "rebuild.update(r'https://rawkuma.com/rebuild-world-chapter-36/', 36)"
   ]
  },
  {
   "cell_type": "code",
   "execution_count": 7,
   "metadata": {},
   "outputs": [
    {
     "data": {
      "text/plain": [
       "'https://rawkuma.com/rebuild-world-chapter-36/'"
      ]
     },
     "execution_count": 7,
     "metadata": {},
     "output_type": "execute_result"
    }
   ],
   "source": [
    "rebuild.latest_url"
   ]
  },
  {
   "cell_type": "code",
   "execution_count": null,
   "metadata": {},
   "outputs": [],
   "source": [
    "import requests\n"
   ]
  }
 ],
 "metadata": {
  "interpreter": {
   "hash": "25034407fed5d681614dac11a1c0537e8cb49e3a8883c071303eea01322943d9"
  },
  "kernelspec": {
   "display_name": "Python 3.9.5 64-bit",
   "language": "python",
   "name": "python3"
  },
  "language_info": {
   "codemirror_mode": {
    "name": "ipython",
    "version": 3
   },
   "file_extension": ".py",
   "mimetype": "text/x-python",
   "name": "python",
   "nbconvert_exporter": "python",
   "pygments_lexer": "ipython3",
   "version": "3.9.5"
  },
  "orig_nbformat": 4
 },
 "nbformat": 4,
 "nbformat_minor": 2
}
